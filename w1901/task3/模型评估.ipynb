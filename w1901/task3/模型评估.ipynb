{
 "cells": [
  {
   "cell_type": "markdown",
   "metadata": {},
   "source": [
    "### Task1.3 - 模型评估 "
   ]
  },
  {
   "cell_type": "markdown",
   "metadata": {},
   "source": [
    "记录7个模型（逻辑回归、SVM、决策树、随机森林、GBDT、XGBoost和LightGBM）关于accuracy、precision，recall和F1-score、auc值的评分表格，并画出ROC曲线。"
   ]
  },
  {
   "cell_type": "markdown",
   "metadata": {},
   "source": [
    "[文档地址](https://shimo.im/docs/NTt9uqcuPhETs6w6)"
   ]
  },
  {
   "cell_type": "code",
   "execution_count": 1,
   "metadata": {},
   "outputs": [],
   "source": [
    "#引入包\n",
    "import pandas as pd\n",
    "import matplotlib.pyplot as plt\n",
    "from sklearn.model_selection import train_test_split\n",
    "from sklearn.linear_model import LogisticRegression\n",
    "from sklearn.svm import SVC\n",
    "from sklearn.tree import DecisionTreeClassifier\n",
    "from sklearn.ensemble import GradientBoostingClassifier,RandomForestClassifier\n",
    "from lightgbm import LGBMClassifier\n",
    "from xgboost import XGBClassifier\n",
    "from sklearn import metrics\n",
    "import time"
   ]
  },
  {
   "cell_type": "code",
   "execution_count": 2,
   "metadata": {},
   "outputs": [
    {
     "data": {
      "text/html": [
       "<div>\n",
       "<style>\n",
       "    .dataframe thead tr:only-child th {\n",
       "        text-align: right;\n",
       "    }\n",
       "\n",
       "    .dataframe thead th {\n",
       "        text-align: left;\n",
       "    }\n",
       "\n",
       "    .dataframe tbody tr th {\n",
       "        vertical-align: top;\n",
       "    }\n",
       "</style>\n",
       "<table border=\"1\" class=\"dataframe\">\n",
       "  <thead>\n",
       "    <tr style=\"text-align: right;\">\n",
       "      <th></th>\n",
       "      <th>low_volume_percent</th>\n",
       "      <th>middle_volume_percent</th>\n",
       "      <th>take_amount_in_later_12_month_highest</th>\n",
       "      <th>trans_amount_increase_rate_lately</th>\n",
       "      <th>trans_activity_month</th>\n",
       "      <th>trans_activity_day</th>\n",
       "      <th>transd_mcc</th>\n",
       "      <th>trans_days_interval_filter</th>\n",
       "      <th>trans_days_interval</th>\n",
       "      <th>regional_mobility</th>\n",
       "      <th>...</th>\n",
       "      <th>consfin_product_count</th>\n",
       "      <th>consfin_max_limit</th>\n",
       "      <th>consfin_avg_limit</th>\n",
       "      <th>latest_query_day</th>\n",
       "      <th>loans_latest_day</th>\n",
       "      <th>reg_preference_for_trad</th>\n",
       "      <th>latest_query_time_month</th>\n",
       "      <th>latest_query_time_weekday</th>\n",
       "      <th>loans_latest_time_month</th>\n",
       "      <th>loans_latest_time_weekday</th>\n",
       "    </tr>\n",
       "  </thead>\n",
       "  <tbody>\n",
       "    <tr>\n",
       "      <th>0</th>\n",
       "      <td>0.01</td>\n",
       "      <td>0.99</td>\n",
       "      <td>0</td>\n",
       "      <td>0.90</td>\n",
       "      <td>0.55</td>\n",
       "      <td>0.313</td>\n",
       "      <td>17.0</td>\n",
       "      <td>27.0</td>\n",
       "      <td>26.0</td>\n",
       "      <td>3.0</td>\n",
       "      <td>...</td>\n",
       "      <td>2.0</td>\n",
       "      <td>1200.0</td>\n",
       "      <td>1200.0</td>\n",
       "      <td>12.0</td>\n",
       "      <td>18.0</td>\n",
       "      <td>0</td>\n",
       "      <td>4.0</td>\n",
       "      <td>2.0</td>\n",
       "      <td>4.0</td>\n",
       "      <td>3.0</td>\n",
       "    </tr>\n",
       "    <tr>\n",
       "      <th>1</th>\n",
       "      <td>0.02</td>\n",
       "      <td>0.94</td>\n",
       "      <td>2000</td>\n",
       "      <td>1.28</td>\n",
       "      <td>1.00</td>\n",
       "      <td>0.458</td>\n",
       "      <td>19.0</td>\n",
       "      <td>30.0</td>\n",
       "      <td>14.0</td>\n",
       "      <td>4.0</td>\n",
       "      <td>...</td>\n",
       "      <td>6.0</td>\n",
       "      <td>22800.0</td>\n",
       "      <td>9360.0</td>\n",
       "      <td>4.0</td>\n",
       "      <td>2.0</td>\n",
       "      <td>0</td>\n",
       "      <td>5.0</td>\n",
       "      <td>3.0</td>\n",
       "      <td>5.0</td>\n",
       "      <td>5.0</td>\n",
       "    </tr>\n",
       "    <tr>\n",
       "      <th>2</th>\n",
       "      <td>0.04</td>\n",
       "      <td>0.96</td>\n",
       "      <td>0</td>\n",
       "      <td>1.00</td>\n",
       "      <td>1.00</td>\n",
       "      <td>0.114</td>\n",
       "      <td>13.0</td>\n",
       "      <td>68.0</td>\n",
       "      <td>22.0</td>\n",
       "      <td>1.0</td>\n",
       "      <td>...</td>\n",
       "      <td>1.0</td>\n",
       "      <td>4200.0</td>\n",
       "      <td>4200.0</td>\n",
       "      <td>2.0</td>\n",
       "      <td>6.0</td>\n",
       "      <td>0</td>\n",
       "      <td>5.0</td>\n",
       "      <td>5.0</td>\n",
       "      <td>5.0</td>\n",
       "      <td>1.0</td>\n",
       "    </tr>\n",
       "    <tr>\n",
       "      <th>3</th>\n",
       "      <td>0.00</td>\n",
       "      <td>0.96</td>\n",
       "      <td>2000</td>\n",
       "      <td>0.13</td>\n",
       "      <td>0.57</td>\n",
       "      <td>0.777</td>\n",
       "      <td>22.0</td>\n",
       "      <td>14.0</td>\n",
       "      <td>6.0</td>\n",
       "      <td>3.0</td>\n",
       "      <td>...</td>\n",
       "      <td>5.0</td>\n",
       "      <td>30000.0</td>\n",
       "      <td>12180.0</td>\n",
       "      <td>2.0</td>\n",
       "      <td>4.0</td>\n",
       "      <td>1</td>\n",
       "      <td>5.0</td>\n",
       "      <td>5.0</td>\n",
       "      <td>5.0</td>\n",
       "      <td>3.0</td>\n",
       "    </tr>\n",
       "    <tr>\n",
       "      <th>4</th>\n",
       "      <td>0.01</td>\n",
       "      <td>0.99</td>\n",
       "      <td>0</td>\n",
       "      <td>0.46</td>\n",
       "      <td>1.00</td>\n",
       "      <td>0.175</td>\n",
       "      <td>13.0</td>\n",
       "      <td>66.0</td>\n",
       "      <td>42.0</td>\n",
       "      <td>1.0</td>\n",
       "      <td>...</td>\n",
       "      <td>2.0</td>\n",
       "      <td>8400.0</td>\n",
       "      <td>8250.0</td>\n",
       "      <td>22.0</td>\n",
       "      <td>120.0</td>\n",
       "      <td>0</td>\n",
       "      <td>4.0</td>\n",
       "      <td>6.0</td>\n",
       "      <td>1.0</td>\n",
       "      <td>6.0</td>\n",
       "    </tr>\n",
       "  </tbody>\n",
       "</table>\n",
       "<p>5 rows × 85 columns</p>\n",
       "</div>"
      ],
      "text/plain": [
       "   low_volume_percent  middle_volume_percent  \\\n",
       "0                0.01                   0.99   \n",
       "1                0.02                   0.94   \n",
       "2                0.04                   0.96   \n",
       "3                0.00                   0.96   \n",
       "4                0.01                   0.99   \n",
       "\n",
       "   take_amount_in_later_12_month_highest  trans_amount_increase_rate_lately  \\\n",
       "0                                      0                               0.90   \n",
       "1                                   2000                               1.28   \n",
       "2                                      0                               1.00   \n",
       "3                                   2000                               0.13   \n",
       "4                                      0                               0.46   \n",
       "\n",
       "   trans_activity_month  trans_activity_day  transd_mcc  \\\n",
       "0                  0.55               0.313        17.0   \n",
       "1                  1.00               0.458        19.0   \n",
       "2                  1.00               0.114        13.0   \n",
       "3                  0.57               0.777        22.0   \n",
       "4                  1.00               0.175        13.0   \n",
       "\n",
       "   trans_days_interval_filter  trans_days_interval  regional_mobility  \\\n",
       "0                        27.0                 26.0                3.0   \n",
       "1                        30.0                 14.0                4.0   \n",
       "2                        68.0                 22.0                1.0   \n",
       "3                        14.0                  6.0                3.0   \n",
       "4                        66.0                 42.0                1.0   \n",
       "\n",
       "             ...              consfin_product_count  consfin_max_limit  \\\n",
       "0            ...                                2.0             1200.0   \n",
       "1            ...                                6.0            22800.0   \n",
       "2            ...                                1.0             4200.0   \n",
       "3            ...                                5.0            30000.0   \n",
       "4            ...                                2.0             8400.0   \n",
       "\n",
       "   consfin_avg_limit  latest_query_day  loans_latest_day  \\\n",
       "0             1200.0              12.0              18.0   \n",
       "1             9360.0               4.0               2.0   \n",
       "2             4200.0               2.0               6.0   \n",
       "3            12180.0               2.0               4.0   \n",
       "4             8250.0              22.0             120.0   \n",
       "\n",
       "   reg_preference_for_trad  latest_query_time_month  \\\n",
       "0                        0                      4.0   \n",
       "1                        0                      5.0   \n",
       "2                        0                      5.0   \n",
       "3                        1                      5.0   \n",
       "4                        0                      4.0   \n",
       "\n",
       "   latest_query_time_weekday  loans_latest_time_month  \\\n",
       "0                        2.0                      4.0   \n",
       "1                        3.0                      5.0   \n",
       "2                        5.0                      5.0   \n",
       "3                        5.0                      5.0   \n",
       "4                        6.0                      1.0   \n",
       "\n",
       "   loans_latest_time_weekday  \n",
       "0                        3.0  \n",
       "1                        5.0  \n",
       "2                        1.0  \n",
       "3                        3.0  \n",
       "4                        6.0  \n",
       "\n",
       "[5 rows x 85 columns]"
      ]
     },
     "execution_count": 2,
     "metadata": {},
     "output_type": "execute_result"
    }
   ],
   "source": [
    "data = pd.read_csv('data_all.csv')\n",
    "\n",
    "data.head()"
   ]
  },
  {
   "cell_type": "code",
   "execution_count": 3,
   "metadata": {},
   "outputs": [
    {
     "data": {
      "text/plain": [
       "0    3561\n",
       "1    1193\n",
       "Name: status, dtype: int64"
      ]
     },
     "execution_count": 3,
     "metadata": {},
     "output_type": "execute_result"
    },
    {
     "name": "stdout",
     "output_type": "stream",
     "text": [
      "('The shape of X is: ', (4754, 84))\n"
     ]
    },
    {
     "data": {
      "text/plain": [
       "0    2493\n",
       "1     834\n",
       "Name: status, dtype: int64"
      ]
     },
     "execution_count": 3,
     "metadata": {},
     "output_type": "execute_result"
    },
    {
     "data": {
      "text/plain": [
       "0    1068\n",
       "1     359\n",
       "Name: status, dtype: int64"
      ]
     },
     "execution_count": 3,
     "metadata": {},
     "output_type": "execute_result"
    }
   ],
   "source": [
    "# 拆分训练集和测试集\n",
    "y = data['status']\n",
    "X = data.drop(['status'],axis=1)\n",
    "y.value_counts()\n",
    "print('The shape of X is: ',X.shape)\n",
    "\n",
    "X_train,X_test,y_train,y_test = train_test_split(X,y, test_size=.3, random_state=2018)\n",
    "y_train.value_counts()\n",
    "y_test.value_counts()"
   ]
  },
  {
   "cell_type": "code",
   "execution_count": 4,
   "metadata": {},
   "outputs": [],
   "source": [
    "#构建模型\n",
    "lr_model = LogisticRegression(random_state=2018)\n",
    "svm_model = SVC(random_state=2018, gamma='auto', probability=True)\n",
    "dt_model = DecisionTreeClassifier(random_state=2018)\n",
    "rf_model = RandomForestClassifier(random_state=2018, n_estimators=100)\n",
    "gbdt_model = GradientBoostingClassifier(random_state=2018, n_estimators=100)\n",
    "xgb_model = XGBClassifier(random_state=2018, n_estimators=100)\n",
    "lgbm_model = LGBMClassifier(random_state=2018, n_estimators=100)\n",
    "\n",
    "models = {'LR':lr_model,\n",
    "          'SVM':svm_model,\n",
    "          'CART':dt_model,\n",
    "         'RF':rf_model,\n",
    "         'GBDT':gbdt_model,\n",
    "         'XGB':xgb_model,\n",
    "         'LightGBM':lgbm_model}"
   ]
  },
  {
   "cell_type": "code",
   "execution_count": 12,
   "metadata": {},
   "outputs": [],
   "source": [
    "def evaluate(y,y_hat,y_proba):\n",
    "    acc = metrics.accuracy_score(y,y_hat)\n",
    "    p = metrics.precision_score(y,y_hat)\n",
    "    r = metrics.recall_score(y,y_hat)\n",
    "    f1 = metrics.f1_score(y,y_hat,average='weighted')\n",
    "    fpr,tpr,thresholds = metrics.roc_curve(y,y_proba[:,1])\n",
    "    auc = metrics.auc(fpr,tpr)\n",
    "    #auc = metrics.roc_auc_score(y,y_hat)\n",
    "    return acc, p, r, f1, fpr, tpr, auc\n",
    "\n",
    "def plot_roc_curve(fpr, tpr, label=None):\n",
    "    plt.plot(fpr, tpr, label=label)\n",
    "    plt.plot([0, 1], [0, 1], 'k--')\n",
    "    plt.axis([0, 1, 0, 1])\n",
    "    plt.xlabel('False Positive Rate')\n",
    "    plt.ylabel('True Positive Rate')\n",
    "    plt.legend()"
   ]
  },
  {
   "cell_type": "code",
   "execution_count": 20,
   "metadata": {},
   "outputs": [
    {
     "data": {
      "text/plain": [
       "SVC(C=1.0, cache_size=200, class_weight=None, coef0=0.0,\n",
       "  decision_function_shape='ovr', degree=3, gamma='auto', kernel='rbf',\n",
       "  max_iter=-1, probability=True, random_state=2018, shrinking=True,\n",
       "  tol=0.001, verbose=False)"
      ]
     },
     "execution_count": 20,
     "metadata": {},
     "output_type": "execute_result"
    },
    {
     "name": "stdout",
     "output_type": "stream",
     "text": [
      "Model            SVM\n",
      "Group          train\n",
      "Accuracy           1\n",
      "Precision          1\n",
      "Recall             1\n",
      "F1 score           1\n",
      "AUC                0\n",
      "Time         12.0349\n",
      "Name: 0, dtype: object\n"
     ]
    },
    {
     "data": {
      "text/plain": [
       "LGBMClassifier(boosting_type='gbdt', class_weight=None, colsample_bytree=1.0,\n",
       "        learning_rate=0.1, max_depth=-1, min_child_samples=20,\n",
       "        min_child_weight=0.001, min_split_gain=0.0, n_estimators=100,\n",
       "        n_jobs=-1, num_leaves=31, objective=None, random_state=2018,\n",
       "        reg_alpha=0.0, reg_lambda=0.0, silent=True, subsample=1.0,\n",
       "        subsample_for_bin=200000, subsample_freq=0)"
      ]
     },
     "execution_count": 20,
     "metadata": {},
     "output_type": "execute_result"
    },
    {
     "name": "stdout",
     "output_type": "stream",
     "text": [
      "Model        LightGBM\n",
      "Group           train\n",
      "Accuracy     0.997295\n",
      "Precision           1\n",
      "Recall       0.989209\n",
      "F1 score      0.99729\n",
      "AUC          0.999998\n",
      "Time          1.67762\n",
      "Name: 1, dtype: object\n"
     ]
    },
    {
     "data": {
      "text/plain": [
       "XGBClassifier(base_score=0.5, booster='gbtree', colsample_bylevel=1,\n",
       "       colsample_bytree=1, gamma=0, learning_rate=0.1, max_delta_step=0,\n",
       "       max_depth=3, min_child_weight=1, missing=None, n_estimators=100,\n",
       "       n_jobs=1, nthread=None, objective='binary:logistic',\n",
       "       random_state=2018, reg_alpha=0, reg_lambda=1, scale_pos_weight=1,\n",
       "       seed=None, silent=True, subsample=1)"
      ]
     },
     "execution_count": 20,
     "metadata": {},
     "output_type": "execute_result"
    },
    {
     "name": "stdout",
     "output_type": "stream",
     "text": [
      "Model             XGB\n",
      "Group           train\n",
      "Accuracy      0.85242\n",
      "Precision    0.872017\n",
      "Recall       0.482014\n",
      "F1 score     0.836302\n",
      "AUC           0.91836\n",
      "Time          1.43398\n",
      "Name: 2, dtype: object\n"
     ]
    },
    {
     "data": {
      "text/plain": [
       "DecisionTreeClassifier(class_weight=None, criterion='gini', max_depth=None,\n",
       "            max_features=None, max_leaf_nodes=None,\n",
       "            min_impurity_decrease=0.0, min_impurity_split=None,\n",
       "            min_samples_leaf=1, min_samples_split=2,\n",
       "            min_weight_fraction_leaf=0.0, presort=False, random_state=2018,\n",
       "            splitter='best')"
      ]
     },
     "execution_count": 20,
     "metadata": {},
     "output_type": "execute_result"
    },
    {
     "name": "stdout",
     "output_type": "stream",
     "text": [
      "Model            CART\n",
      "Group           train\n",
      "Accuracy            1\n",
      "Precision           1\n",
      "Recall              1\n",
      "F1 score            1\n",
      "AUC                 1\n",
      "Time         0.180933\n",
      "Name: 3, dtype: object\n"
     ]
    },
    {
     "data": {
      "text/plain": [
       "RandomForestClassifier(bootstrap=True, class_weight=None, criterion='gini',\n",
       "            max_depth=None, max_features='auto', max_leaf_nodes=None,\n",
       "            min_impurity_decrease=0.0, min_impurity_split=None,\n",
       "            min_samples_leaf=1, min_samples_split=2,\n",
       "            min_weight_fraction_leaf=0.0, n_estimators=100, n_jobs=None,\n",
       "            oob_score=False, random_state=2018, verbose=0,\n",
       "            warm_start=False)"
      ]
     },
     "execution_count": 20,
     "metadata": {},
     "output_type": "execute_result"
    },
    {
     "name": "stdout",
     "output_type": "stream",
     "text": [
      "Model           RF\n",
      "Group        train\n",
      "Accuracy         1\n",
      "Precision        1\n",
      "Recall           1\n",
      "F1 score         1\n",
      "AUC              1\n",
      "Time         2.313\n",
      "Name: 4, dtype: object\n"
     ]
    },
    {
     "data": {
      "text/plain": [
       "GradientBoostingClassifier(criterion='friedman_mse', init=None,\n",
       "              learning_rate=0.1, loss='deviance', max_depth=3,\n",
       "              max_features=None, max_leaf_nodes=None,\n",
       "              min_impurity_decrease=0.0, min_impurity_split=None,\n",
       "              min_samples_leaf=1, min_samples_split=2,\n",
       "              min_weight_fraction_leaf=0.0, n_estimators=100,\n",
       "              n_iter_no_change=None, presort='auto', random_state=2018,\n",
       "              subsample=1.0, tol=0.0001, validation_fraction=0.1,\n",
       "              verbose=0, warm_start=False)"
      ]
     },
     "execution_count": 20,
     "metadata": {},
     "output_type": "execute_result"
    },
    {
     "name": "stdout",
     "output_type": "stream",
     "text": [
      "Model            GBDT\n",
      "Group           train\n",
      "Accuracy     0.862338\n",
      "Precision    0.883673\n",
      "Recall       0.519185\n",
      "F1 score     0.848897\n",
      "AUC          0.920746\n",
      "Time          1.27655\n",
      "Name: 5, dtype: object\n"
     ]
    },
    {
     "data": {
      "text/plain": [
       "LogisticRegression(C=1.0, class_weight=None, dual=False, fit_intercept=True,\n",
       "          intercept_scaling=1, max_iter=100, multi_class='warn',\n",
       "          n_jobs=None, penalty='l2', random_state=2018, solver='warn',\n",
       "          tol=0.0001, verbose=0, warm_start=False)"
      ]
     },
     "execution_count": 20,
     "metadata": {},
     "output_type": "execute_result"
    },
    {
     "name": "stdout",
     "output_type": "stream",
     "text": [
      "Model              LR\n",
      "Group           train\n",
      "Accuracy     0.749324\n",
      "Precision           0\n",
      "Recall              0\n",
      "F1 score     0.641946\n",
      "AUC          0.576167\n",
      "Time         0.140492\n",
      "Name: 6, dtype: object\n"
     ]
    },
    {
     "data": {
      "image/png": "[encoded data removed]",
      "text/plain": [
       "<matplotlib.figure.Figure at 0x115efc450>"
      ]
     },
     "metadata": {},
     "output_type": "display_data"
    }
   ],
   "source": [
    "df_result = pd.DataFrame(columns=('Model', 'Group', 'Accuracy', 'Precision', 'Recall', 'F1 score', 'AUC', 'Time'))\n",
    "row = 0\n",
    "for name, model in models.items():\n",
    "    start = time.time()\n",
    "    model.fit(X_train, y_train)\n",
    "    y_train_pred = model.predict(X_train)\n",
    "    y_train_proba = model.predict_proba(X_train)\n",
    "    end = time.time()\n",
    "\n",
    "    acc,p,r,f1,fpr,tpr,auc = evaluate(y_train,y_train_pred,y_train_proba)\n",
    "    plot_roc_curve(fpr,tpr,label=name+'(AUC = %.2f)' %(auc))\n",
    "\n",
    "    df_result.loc[row] = [name, 'train', acc, p, r, f1, auc, end-start]\n",
    "    print(df_result.loc[row])\n",
    "    row += 1\n",
    "    \n",
    "plt.show()"
   ]
  },
  {
   "cell_type": "code",
   "execution_count": 21,
   "metadata": {},
   "outputs": [
    {
     "data": {
      "text/plain": [
       "SVC(C=1.0, cache_size=200, class_weight=None, coef0=0.0,\n",
       "  decision_function_shape='ovr', degree=3, gamma='auto', kernel='rbf',\n",
       "  max_iter=-1, probability=True, random_state=2018, shrinking=True,\n",
       "  tol=0.001, verbose=False)"
      ]
     },
     "execution_count": 21,
     "metadata": {},
     "output_type": "execute_result"
    },
    {
     "name": "stdout",
     "output_type": "stream",
     "text": [
      "Model             SVM\n",
      "Group            test\n",
      "Accuracy     0.748423\n",
      "Precision           0\n",
      "Recall              0\n",
      "F1 score     0.640734\n",
      "AUC               0.5\n",
      "Time           10.482\n",
      "Name: 7, dtype: object\n"
     ]
    },
    {
     "data": {
      "text/plain": [
       "LGBMClassifier(boosting_type='gbdt', class_weight=None, colsample_bytree=1.0,\n",
       "        learning_rate=0.1, max_depth=-1, min_child_samples=20,\n",
       "        min_child_weight=0.001, min_split_gain=0.0, n_estimators=100,\n",
       "        n_jobs=-1, num_leaves=31, objective=None, random_state=2018,\n",
       "        reg_alpha=0.0, reg_lambda=0.0, silent=True, subsample=1.0,\n",
       "        subsample_for_bin=200000, subsample_freq=0)"
      ]
     },
     "execution_count": 21,
     "metadata": {},
     "output_type": "execute_result"
    },
    {
     "name": "stdout",
     "output_type": "stream",
     "text": [
      "Model        LightGBM\n",
      "Group            test\n",
      "Accuracy     0.770147\n",
      "Precision    0.570136\n",
      "Recall       0.350975\n",
      "F1 score     0.749777\n",
      "AUC          0.757402\n",
      "Time          1.69075\n",
      "Name: 8, dtype: object\n"
     ]
    },
    {
     "data": {
      "text/plain": [
       "XGBClassifier(base_score=0.5, booster='gbtree', colsample_bylevel=1,\n",
       "       colsample_bytree=1, gamma=0, learning_rate=0.1, max_delta_step=0,\n",
       "       max_depth=3, min_child_weight=1, missing=None, n_estimators=100,\n",
       "       n_jobs=1, nthread=None, objective='binary:logistic',\n",
       "       random_state=2018, reg_alpha=0, reg_lambda=1, scale_pos_weight=1,\n",
       "       seed=None, silent=True, subsample=1)"
      ]
     },
     "execution_count": 21,
     "metadata": {},
     "output_type": "execute_result"
    },
    {
     "name": "stdout",
     "output_type": "stream",
     "text": [
      "Model             XGB\n",
      "Group            test\n",
      "Accuracy     0.785564\n",
      "Precision    0.630542\n",
      "Recall       0.356546\n",
      "F1 score       0.7631\n",
      "AUC          0.771363\n",
      "Time          1.25207\n",
      "Name: 9, dtype: object\n"
     ]
    },
    {
     "data": {
      "text/plain": [
       "DecisionTreeClassifier(class_weight=None, criterion='gini', max_depth=None,\n",
       "            max_features=None, max_leaf_nodes=None,\n",
       "            min_impurity_decrease=0.0, min_impurity_split=None,\n",
       "            min_samples_leaf=1, min_samples_split=2,\n",
       "            min_weight_fraction_leaf=0.0, presort=False, random_state=2018,\n",
       "            splitter='best')"
      ]
     },
     "execution_count": 21,
     "metadata": {},
     "output_type": "execute_result"
    },
    {
     "name": "stdout",
     "output_type": "stream",
     "text": [
      "Model            CART\n",
      "Group            test\n",
      "Accuracy     0.684653\n",
      "Precision    0.382429\n",
      "Recall       0.412256\n",
      "F1 score     0.688477\n",
      "AUC          0.594237\n",
      "Time         0.175074\n",
      "Name: 10, dtype: object\n"
     ]
    },
    {
     "data": {
      "text/plain": [
       "RandomForestClassifier(bootstrap=True, class_weight=None, criterion='gini',\n",
       "            max_depth=None, max_features='auto', max_leaf_nodes=None,\n",
       "            min_impurity_decrease=0.0, min_impurity_split=None,\n",
       "            min_samples_leaf=1, min_samples_split=2,\n",
       "            min_weight_fraction_leaf=0.0, n_estimators=100, n_jobs=None,\n",
       "            oob_score=False, random_state=2018, verbose=0,\n",
       "            warm_start=False)"
      ]
     },
     "execution_count": 21,
     "metadata": {},
     "output_type": "execute_result"
    },
    {
     "name": "stdout",
     "output_type": "stream",
     "text": [
      "Model              RF\n",
      "Group            test\n",
      "Accuracy      0.78206\n",
      "Precision    0.681818\n",
      "Recall       0.250696\n",
      "F1 score     0.742149\n",
      "AUC          0.749407\n",
      "Time          1.63937\n",
      "Name: 11, dtype: object\n"
     ]
    },
    {
     "data": {
      "text/plain": [
       "GradientBoostingClassifier(criterion='friedman_mse', init=None,\n",
       "              learning_rate=0.1, loss='deviance', max_depth=3,\n",
       "              max_features=None, max_leaf_nodes=None,\n",
       "              min_impurity_decrease=0.0, min_impurity_split=None,\n",
       "              min_samples_leaf=1, min_samples_split=2,\n",
       "              min_weight_fraction_leaf=0.0, n_estimators=100,\n",
       "              n_iter_no_change=None, presort='auto', random_state=2018,\n",
       "              subsample=1.0, tol=0.0001, validation_fraction=0.1,\n",
       "              verbose=0, warm_start=False)"
      ]
     },
     "execution_count": 21,
     "metadata": {},
     "output_type": "execute_result"
    },
    {
     "name": "stdout",
     "output_type": "stream",
     "text": [
      "Model            GBDT\n",
      "Group            test\n",
      "Accuracy     0.780659\n",
      "Precision     0.61165\n",
      "Recall       0.350975\n",
      "F1 score     0.758291\n",
      "AUC          0.763828\n",
      "Time          1.31337\n",
      "Name: 12, dtype: object\n"
     ]
    },
    {
     "data": {
      "text/plain": [
       "LogisticRegression(C=1.0, class_weight=None, dual=False, fit_intercept=True,\n",
       "          intercept_scaling=1, max_iter=100, multi_class='warn',\n",
       "          n_jobs=None, penalty='l2', random_state=2018, solver='warn',\n",
       "          tol=0.0001, verbose=0, warm_start=False)"
      ]
     },
     "execution_count": 21,
     "metadata": {},
     "output_type": "execute_result"
    },
    {
     "name": "stdout",
     "output_type": "stream",
     "text": [
      "Model              LR\n",
      "Group            test\n",
      "Accuracy     0.748423\n",
      "Precision           0\n",
      "Recall              0\n",
      "F1 score     0.640734\n",
      "AUC           0.56746\n",
      "Time          0.11393\n",
      "Name: 13, dtype: object\n"
     ]
    },
    {
     "data": {
      "image/png": "[encoded data removed]",
      "text/plain": [
       "<matplotlib.figure.Figure at 0x11730e910>"
      ]
     },
     "metadata": {},
     "output_type": "display_data"
    }
   ],
   "source": [
    "for name,model in models.items():\n",
    "    start = time.time()\n",
    "    model.fit(X_train, y_train)\n",
    "    y_test_pred = model.predict(X_test)\n",
    "    y_test_proba = model.predict_proba(X_test)\n",
    "    end = time.time()\n",
    "    acc,p,r,f1,fpr,tpr,auc = evaluate(y_test,y_test_pred,y_test_proba)\n",
    "    \n",
    "    plot_roc_curve(fpr,tpr,label=name+'(AUC = %.2f)' %(auc))\n",
    "\n",
    "    df_result.loc[row] = [name, 'test', acc, p, r, f1, auc, end-start]\n",
    "    print(df_result.loc[row])\n",
    "    row += 1\n",
    "plt.show()"
   ]
  },
  {
   "cell_type": "code",
   "execution_count": 22,
   "metadata": {},
   "outputs": [
    {
     "data": {
      "text/html": [
       "<div>\n",
       "<style>\n",
       "    .dataframe thead tr:only-child th {\n",
       "        text-align: right;\n",
       "    }\n",
       "\n",
       "    .dataframe thead th {\n",
       "        text-align: left;\n",
       "    }\n",
       "\n",
       "    .dataframe tbody tr th {\n",
       "        vertical-align: top;\n",
       "    }\n",
       "</style>\n",
       "<table border=\"1\" class=\"dataframe\">\n",
       "  <thead>\n",
       "    <tr style=\"text-align: right;\">\n",
       "      <th></th>\n",
       "      <th>Model</th>\n",
       "      <th>Group</th>\n",
       "      <th>Accuracy</th>\n",
       "      <th>Precision</th>\n",
       "      <th>Recall</th>\n",
       "      <th>F1 score</th>\n",
       "      <th>AUC</th>\n",
       "      <th>Time</th>\n",
       "    </tr>\n",
       "  </thead>\n",
       "  <tbody>\n",
       "    <tr>\n",
       "      <th>0</th>\n",
       "      <td>SVM</td>\n",
       "      <td>train</td>\n",
       "      <td>1.000000</td>\n",
       "      <td>1.000000</td>\n",
       "      <td>1.000000</td>\n",
       "      <td>1.000000</td>\n",
       "      <td>0.000000</td>\n",
       "      <td>12.034895</td>\n",
       "    </tr>\n",
       "    <tr>\n",
       "      <th>1</th>\n",
       "      <td>LightGBM</td>\n",
       "      <td>train</td>\n",
       "      <td>0.997295</td>\n",
       "      <td>1.000000</td>\n",
       "      <td>0.989209</td>\n",
       "      <td>0.997290</td>\n",
       "      <td>0.999998</td>\n",
       "      <td>1.677618</td>\n",
       "    </tr>\n",
       "    <tr>\n",
       "      <th>2</th>\n",
       "      <td>XGB</td>\n",
       "      <td>train</td>\n",
       "      <td>0.852420</td>\n",
       "      <td>0.872017</td>\n",
       "      <td>0.482014</td>\n",
       "      <td>0.836302</td>\n",
       "      <td>0.918360</td>\n",
       "      <td>1.433976</td>\n",
       "    </tr>\n",
       "    <tr>\n",
       "      <th>3</th>\n",
       "      <td>CART</td>\n",
       "      <td>train</td>\n",
       "      <td>1.000000</td>\n",
       "      <td>1.000000</td>\n",
       "      <td>1.000000</td>\n",
       "      <td>1.000000</td>\n",
       "      <td>1.000000</td>\n",
       "      <td>0.180933</td>\n",
       "    </tr>\n",
       "    <tr>\n",
       "      <th>4</th>\n",
       "      <td>RF</td>\n",
       "      <td>train</td>\n",
       "      <td>1.000000</td>\n",
       "      <td>1.000000</td>\n",
       "      <td>1.000000</td>\n",
       "      <td>1.000000</td>\n",
       "      <td>1.000000</td>\n",
       "      <td>2.313004</td>\n",
       "    </tr>\n",
       "    <tr>\n",
       "      <th>5</th>\n",
       "      <td>GBDT</td>\n",
       "      <td>train</td>\n",
       "      <td>0.862338</td>\n",
       "      <td>0.883673</td>\n",
       "      <td>0.519185</td>\n",
       "      <td>0.848897</td>\n",
       "      <td>0.920746</td>\n",
       "      <td>1.276546</td>\n",
       "    </tr>\n",
       "    <tr>\n",
       "      <th>6</th>\n",
       "      <td>LR</td>\n",
       "      <td>train</td>\n",
       "      <td>0.749324</td>\n",
       "      <td>0.000000</td>\n",
       "      <td>0.000000</td>\n",
       "      <td>0.641946</td>\n",
       "      <td>0.576167</td>\n",
       "      <td>0.140492</td>\n",
       "    </tr>\n",
       "    <tr>\n",
       "      <th>7</th>\n",
       "      <td>SVM</td>\n",
       "      <td>test</td>\n",
       "      <td>0.748423</td>\n",
       "      <td>0.000000</td>\n",
       "      <td>0.000000</td>\n",
       "      <td>0.640734</td>\n",
       "      <td>0.500000</td>\n",
       "      <td>10.482027</td>\n",
       "    </tr>\n",
       "    <tr>\n",
       "      <th>8</th>\n",
       "      <td>LightGBM</td>\n",
       "      <td>test</td>\n",
       "      <td>0.770147</td>\n",
       "      <td>0.570136</td>\n",
       "      <td>0.350975</td>\n",
       "      <td>0.749777</td>\n",
       "      <td>0.757402</td>\n",
       "      <td>1.690752</td>\n",
       "    </tr>\n",
       "    <tr>\n",
       "      <th>9</th>\n",
       "      <td>XGB</td>\n",
       "      <td>test</td>\n",
       "      <td>0.785564</td>\n",
       "      <td>0.630542</td>\n",
       "      <td>0.356546</td>\n",
       "      <td>0.763100</td>\n",
       "      <td>0.771363</td>\n",
       "      <td>1.252075</td>\n",
       "    </tr>\n",
       "    <tr>\n",
       "      <th>10</th>\n",
       "      <td>CART</td>\n",
       "      <td>test</td>\n",
       "      <td>0.684653</td>\n",
       "      <td>0.382429</td>\n",
       "      <td>0.412256</td>\n",
       "      <td>0.688477</td>\n",
       "      <td>0.594237</td>\n",
       "      <td>0.175074</td>\n",
       "    </tr>\n",
       "    <tr>\n",
       "      <th>11</th>\n",
       "      <td>RF</td>\n",
       "      <td>test</td>\n",
       "      <td>0.782060</td>\n",
       "      <td>0.681818</td>\n",
       "      <td>0.250696</td>\n",
       "      <td>0.742149</td>\n",
       "      <td>0.749407</td>\n",
       "      <td>1.639367</td>\n",
       "    </tr>\n",
       "    <tr>\n",
       "      <th>12</th>\n",
       "      <td>GBDT</td>\n",
       "      <td>test</td>\n",
       "      <td>0.780659</td>\n",
       "      <td>0.611650</td>\n",
       "      <td>0.350975</td>\n",
       "      <td>0.758291</td>\n",
       "      <td>0.763828</td>\n",
       "      <td>1.313368</td>\n",
       "    </tr>\n",
       "    <tr>\n",
       "      <th>13</th>\n",
       "      <td>LR</td>\n",
       "      <td>test</td>\n",
       "      <td>0.748423</td>\n",
       "      <td>0.000000</td>\n",
       "      <td>0.000000</td>\n",
       "      <td>0.640734</td>\n",
       "      <td>0.567460</td>\n",
       "      <td>0.113930</td>\n",
       "    </tr>\n",
       "  </tbody>\n",
       "</table>\n",
       "</div>"
      ],
      "text/plain": [
       "       Model  Group  Accuracy  Precision    Recall  F1 score       AUC  \\\n",
       "0        SVM  train  1.000000   1.000000  1.000000  1.000000  0.000000   \n",
       "1   LightGBM  train  0.997295   1.000000  0.989209  0.997290  0.999998   \n",
       "2        XGB  train  0.852420   0.872017  0.482014  0.836302  0.918360   \n",
       "3       CART  train  1.000000   1.000000  1.000000  1.000000  1.000000   \n",
       "4         RF  train  1.000000   1.000000  1.000000  1.000000  1.000000   \n",
       "5       GBDT  train  0.862338   0.883673  0.519185  0.848897  0.920746   \n",
       "6         LR  train  0.749324   0.000000  0.000000  0.641946  0.576167   \n",
       "7        SVM   test  0.748423   0.000000  0.000000  0.640734  0.500000   \n",
       "8   LightGBM   test  0.770147   0.570136  0.350975  0.749777  0.757402   \n",
       "9        XGB   test  0.785564   0.630542  0.356546  0.763100  0.771363   \n",
       "10      CART   test  0.684653   0.382429  0.412256  0.688477  0.594237   \n",
       "11        RF   test  0.782060   0.681818  0.250696  0.742149  0.749407   \n",
       "12      GBDT   test  0.780659   0.611650  0.350975  0.758291  0.763828   \n",
       "13        LR   test  0.748423   0.000000  0.000000  0.640734  0.567460   \n",
       "\n",
       "         Time  \n",
       "0   12.034895  \n",
       "1    1.677618  \n",
       "2    1.433976  \n",
       "3    0.180933  \n",
       "4    2.313004  \n",
       "5    1.276546  \n",
       "6    0.140492  \n",
       "7   10.482027  \n",
       "8    1.690752  \n",
       "9    1.252075  \n",
       "10   0.175074  \n",
       "11   1.639367  \n",
       "12   1.313368  \n",
       "13   0.113930  "
      ]
     },
     "execution_count": 22,
     "metadata": {},
     "output_type": "execute_result"
    }
   ],
   "source": [
    "df_result"
   ]
  }
 ],
 "metadata": {
  "kernelspec": {
   "display_name": "python3",
   "language": "python",
   "name": "python3"
  },
  "language_info": {
   "codemirror_mode": {
    "name": "ipython",
    "version": 2
   },
   "file_extension": ".py",
   "mimetype": "text/x-python",
   "name": "python",
   "nbconvert_exporter": "python",
   "pygments_lexer": "ipython2",
   "version": "2.7.12"
  }
 },
 "nbformat": 4,
 "nbformat_minor": 2
}
